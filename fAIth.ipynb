version https://git-lfs.github.com/spec/v1
oid sha256:1f48e2491abeb7c95af3d2a3c1491e477d82f2277a890480527ea7442b231dd1
size 19303600
